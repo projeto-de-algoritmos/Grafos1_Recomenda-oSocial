{
 "cells": [
  {
   "cell_type": "code",
   "execution_count": 1,
   "metadata": {},
   "outputs": [],
   "source": [
    "import tkinter as tk\n",
    "from faker import Faker\n",
    "import numpy as np\n",
    "import pandas as pd\n",
    "import random\n",
    "from pathlib import Path"
   ]
  },
  {
   "cell_type": "code",
   "execution_count": 2,
   "metadata": {},
   "outputs": [
    {
     "name": "stderr",
     "output_type": "stream",
     "text": [
      "<ipython-input-2-a67a88b1e7a0>:6: FutureWarning: elementwise comparison failed; returning scalar instead, but in the future will perform elementwise comparison\n",
      "  if nome not in nomes:\n"
     ]
    }
   ],
   "source": [
    "faker = Faker()\n",
    "# Gera 50 nomes sem repeticao usando o faker\n",
    "nomes = np.array([])\n",
    "while len(nomes) < 50:\n",
    "    nome = faker.name()\n",
    "    if nome not in nomes:\n",
    "        nomes = np.append(nomes, nome)"
   ]
  },
  {
   "cell_type": "code",
   "execution_count": 3,
   "metadata": {},
   "outputs": [],
   "source": [
    "# Array com estilos de musica\n",
    "\n",
    "estilos_musica = [\"Rock\", \"Pop\", \"Hip Hop\", \"Sertanejo\", \"Eletrônica\", ]\n",
    "\n",
    "# Array com artistas/bandas de rock\n",
    "\n",
    "artistas_rock = [\n",
    "    \"Led Zeppelin\", \"The Rolling Stones\", \"Queen\", \"AC/DC\", \"Pink Floyd\",\n",
    "    \"Guns N' Roses\", \"Nirvana\", \"The Who\", \"Black Sabbath\", \"Metallica\",\n",
    "    \"Deep Purple\", \"Foo Fighters\", \"Red Hot Chili Peppers\", \"Linkin Park\",\n",
    "    \"Pearl Jam\", \"U2\", \"Bon Jovi\", \"The Beatles\", \"Green Day\", \"The Doors\",\n",
    "    \"Oasis\", \"Radiohead\", \"R.E.M.\", \"Foo Fighters\", \"System of a Down\",\n",
    "    \"Arctic Monkeys\", \"Coldplay\", \"Muse\", \"The Strokes\", \"Iron Maiden\"\n",
    "]\n",
    "\n",
    "# Array com artistas/bandas de pop\n",
    "\n",
    "artistas_pop = [\n",
    "    'Taylor Swift', 'Ariana Grande', 'Ed Sheeran', 'Dua Lipa', 'Justin Bieber',\n",
    "    'Billie Eilish', 'Shawn Mendes', 'Camila Cabello', 'The Weeknd', 'Katy Perry',\n",
    "    'Maroon 5', 'Bruno Mars', 'Rihanna', 'Selena Gomez', 'Charlie Puth', 'Lady Gaga', 'Post Malone',\n",
    "    'Zara Larsson', 'Harry Styles', 'Sia', 'Miley Cyrus', 'Justin Timberlake', 'Lizzo', 'Jason Derulo',\n",
    "    'Halsey', 'Sam Smith', 'Jonas Brothers', 'Jessie J', 'Niall Horan', 'Lauv'\n",
    "]\n",
    "\n",
    "\n",
    "# Array com artistas/bandas de hip hop\n",
    "\n",
    "artistas_hip_hop = [\n",
    "    \"Eminem\", \"Jay-Z\", \"Kanye West\", \"Drake\", \"Kendrick Lamar\",\n",
    "    \"Nas\", \"Notorious B.I.G.\", \"Tupac Shakur\", \"Snoop Dogg\", \"Lil Wayne\",\n",
    "    \"J. Cole\", \"Outkast\", \"Lauryn Hill\", \"Wu-Tang Clan\", \"A Tribe Called Quest\",\n",
    "    \"Ice Cube\", \"MF DOOM\", \"Run-D.M.C.\", \"Public Enemy\", \"KRS-One\",\n",
    "    \"Big Daddy Kane\", \"Lil Kim\", \"Gang Starr\", \"Mos Def\", \"Common\", \"Rakim\",\n",
    "    \"Big L\", \"A$AP Rocky\", \"Tyler, The Creator\", \"Chance the Rapper\", \"Logic\"\n",
    "]\n",
    "\n",
    "# Array com artistas de sertanejo\n",
    "\n",
    "artistas_sertanejo = [\n",
    "    \"Chitãozinho & Xororó\", \"Maiara & Maraisa\", \"Jorge & Mateus\", \"Gusttavo Lima\", \"Marília Mendonça\",\n",
    "    \"Zé Neto & Cristiano\", \"Henrique & Juliano\", \"Michel Teló\", \"César Menotti & Fabiano\", \"Fernando & Sorocaba\",\n",
    "    \"Gino & Geno\", \"Luan Santana\", \"Paula Fernandes\", \"Cristiano Araújo\", \"Zezé Di Camargo & Luciano\", \"Daniel\",\n",
    "    \"Munhoz & Mariano\", \"Jads & Jadson\", \"Matheus & Kauan\", \"Guilherme & Santiago\", \"João Neto & Frederico\",\n",
    "    \"Gian & Giovani\", \"Gustavo Mioto\", \"Bruno & Marrone\", \"Rick & Renner\", \"Eduardo Costa\",\n",
    "    \"Marcos & Belutti\", \"Léo Magalhães\", \"Zezé di Camargo\", \"Loubet\"\n",
    "]\n",
    "\n",
    "# Array com artistas de eletronica\n",
    "\n",
    "artistas_eletronica = [\n",
    "    \"Daft Punk\", \"Avicii\", \"Calvin Harris\", \"David Guetta\", \"Martin Garrix\",\n",
    "    \"The Chainsmokers\", \"Zedd\", \"Marshmello\", \"Skrillex\", \"Tiesto\", \"Deadmau5\",\n",
    "    \"Disclosure\", \"Kygo\", \"Flume\", \"Major Lazer\", \"Kaskade\", \"Steve Aoki\",\n",
    "    \"Armin van Buuren\", \"Alesso\", \"Axwell\", \"Above & Beyond\", \"Hardwell\", \"R3hab\", \"Nicky Romero\",\n",
    "    \"Diplo\", \"Porter Robinson\", \"Eric Prydz\", \"Nervo\", \"Alan Walker\", \"Galantis\"\n",
    "]"
   ]
  },
  {
   "cell_type": "code",
   "execution_count": 4,
   "metadata": {},
   "outputs": [],
   "source": [
    "# cria a tabela vazia\n",
    "tabela = []\n",
    "\n",
    "for i in range(50):\n",
    "    user_id = i\n",
    "    nome = nomes[i]\n",
    "    estilo = random.choice(estilos_musica)\n",
    "    artista = \"\"\n",
    "    if estilo == 'Rock':\n",
    "        artista = random.choice(artistas_rock)\n",
    "    if estilo == 'Pop':\n",
    "        artista = random.choice(artistas_pop)\n",
    "    if estilo == 'Hip Hop':\n",
    "        artista = random.choice(artistas_hip_hop)\n",
    "    if estilo == 'Sertanejo':\n",
    "        artista = random.choice(artistas_sertanejo)\n",
    "    if estilo == 'Eletrônica':\n",
    "        artista = random.choice(artistas_eletronica)\n",
    "\n",
    "    tabela.append([user_id, nome, estilo, artista])\n",
    "\n",
    "\n",
    "# A tabela usuarios vai ser o nosso dataframe base para trablharmos em cima do grafo\n",
    "usuarios = pd.DataFrame(tabela, columns=['user_id', 'nome', 'estilo', 'artista favorito'])\n",
    "\n",
    "filepath = Path('./src/usuarios.csv')\n",
    "filepath.parent.mkdir(parents=True, exist_ok=True)\n",
    "\n",
    "usuarios.to_csv(filepath)"
   ]
  }
 ],
 "metadata": {
  "kernelspec": {
   "display_name": "myenv",
   "language": "python",
   "name": "myenv"
  },
  "language_info": {
   "codemirror_mode": {
    "name": "ipython",
    "version": 3
   },
   "file_extension": ".py",
   "mimetype": "text/x-python",
   "name": "python",
   "nbconvert_exporter": "python",
   "pygments_lexer": "ipython3",
   "version": "3.8.7"
  },
  "orig_nbformat": 4
 },
 "nbformat": 4,
 "nbformat_minor": 2
}
