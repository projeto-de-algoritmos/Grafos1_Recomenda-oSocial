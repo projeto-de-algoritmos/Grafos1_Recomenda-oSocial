{
 "cells": [
  {
   "cell_type": "code",
   "execution_count": 1,
   "id": "0e0e0395",
   "metadata": {},
   "outputs": [
    {
     "name": "stdout",
     "output_type": "stream",
     "text": [
      "Requirement already satisfied: faker in c:\\users\\bruno\\appdata\\local\\programs\\python\\python38\\lib\\site-packages (18.5.1)\n",
      "Requirement already satisfied: python-dateutil>=2.4 in c:\\users\\bruno\\appdata\\local\\programs\\python\\python38\\lib\\site-packages (from faker) (2.8.1)\n",
      "Requirement already satisfied: six>=1.5 in c:\\users\\bruno\\appdata\\local\\programs\\python\\python38\\lib\\site-packages (from python-dateutil>=2.4->faker) (1.16.0)\n",
      "Note: you may need to restart the kernel to use updated packages.\n"
     ]
    },
    {
     "name": "stderr",
     "output_type": "stream",
     "text": [
      "\n",
      "[notice] A new release of pip available: 22.3.1 -> 23.1.1\n",
      "[notice] To update, run: python.exe -m pip install --upgrade pip\n"
     ]
    }
   ],
   "source": [
    "pip install faker"
   ]
  },
  {
   "cell_type": "code",
   "execution_count": 2,
   "id": "cb4594d7",
   "metadata": {},
   "outputs": [],
   "source": [
    "from collections import defaultdict\n",
    "import pandas as pd\n",
    "import random\n",
    "import numpy as np\n",
    "from faker import Faker"
   ]
  },
  {
   "cell_type": "code",
   "execution_count": 3,
   "id": "07606f2f",
   "metadata": {},
   "outputs": [
    {
     "name": "stderr",
     "output_type": "stream",
     "text": [
      "<ipython-input-3-8400ba16db55>:8: FutureWarning: elementwise comparison failed; returning scalar instead, but in the future will perform elementwise comparison\n",
      "  if nome not in nomes:\n"
     ]
    }
   ],
   "source": [
    "# Cria uma instância do Faker\n",
    "faker = Faker()\n",
    "\n",
    "# Gera 50 nomes sem repeticao usando o faker\n",
    "nomes = np.array([])\n",
    "while len(nomes) < 50:\n",
    "    nome = faker.name()\n",
    "    if nome not in nomes:\n",
    "        nomes = np.append(nomes, nome)\n"
   ]
  },
  {
   "cell_type": "code",
   "execution_count": 4,
   "id": "4aa0eef9",
   "metadata": {},
   "outputs": [],
   "source": [
    "estilos_musica = [\"Rock\", \"Pop\", \"Funk\", \"Hip Hop\", \"Sertanejo\", \"Eletrônica\", \"MPB\", \"Reggae\", \"Jazz\", \"Clássica\"]\n",
    "\n",
    "tabela = []\n",
    "\n",
    "for i in range(50):\n",
    "    nome = nomes[i]\n",
    "    id_usuario = i + 1\n",
    "    estilo = random.choice(estilos_musica)\n",
    "    tabela.append([nome, id_usuario, estilo])\n",
    "\n",
    "usuarios = pd.DataFrame(tabela,columns=['Nome','id usuario','estilo'])\n",
    "usuarios"
   ]
  },
  {
   "cell_type": "code",
   "execution_count": 5,
   "id": "e3bfbdd4",
   "metadata": {},
   "outputs": [],
   "source": [
    "class Grafo(object):\n",
    "\n",
    "    def __init__(self, arestas, direcionado=False):\n",
    "        tamanho=0\n",
    "        #inicializa os atributos do grafo\n",
    "        self.adj = defaultdict(set)\n",
    "        self.direcionado = direcionado\n",
    "        self.tamanho = tamanho\n",
    "        self.adiciona_arestas(arestas)\n",
    "\n",
    "    #obtem a lista de vertices do grafo\n",
    "    def get_vertices(self):\n",
    "        \n",
    "        return list(self.adj.keys())\n",
    "\n",
    "    #obtem a lista de arestas do grafo\n",
    "    def get_arestas(self):\n",
    "        \n",
    "        return [(k, v) for k in self.adj.keys() for v in self.adj[k]]\n",
    "\n",
    "    #Adciona as arestas no grafo\n",
    "    def adiciona_arestas(self, arestas):\n",
    "        \n",
    "        for u, v in arestas:\n",
    "            self.tamanho += 1\n",
    "            self.adiciona_arco(u, v)\n",
    "\n",
    "    #adciona um arco entre u e v\n",
    "    def adiciona_arco(self, u, v):\n",
    "        \n",
    "        self.adj[u].add(v)\n",
    "        # Se o grafo é não-direcionado, precisamos adicionar arcos nos dois sentidos.\n",
    "        if not self.direcionado:\n",
    "            self.adj[v].add(u)\n",
    "\n",
    "    #verifica a existencia de arestas\n",
    "    def existe_aresta(self, u, v):\n",
    "        return u in self.adj and v in self.adj[u]\n",
    "\n",
    "    def verifica_tamanho(self):\n",
    "        return self.tamanho\n",
    "\n",
    "    def __len__(self):\n",
    "        return len(self.adj)\n",
    "\n",
    "\n",
    "    def __str__(self):\n",
    "        return '{}({})'.format(self.__class__.__name__, dict(self.adj))\n",
    "\n",
    "\n",
    "    def __getitem__(self, v):\n",
    "        return self.adj[v]"
   ]
  },
  {
   "cell_type": "code",
   "execution_count": null,
   "id": "882d63f2",
   "metadata": {},
   "outputs": [],
   "source": []
  },
  {
   "cell_type": "code",
   "execution_count": 6,
   "id": "c44e9501",
   "metadata": {},
   "outputs": [
    {
     "name": "stdout",
     "output_type": "stream",
     "text": [
      "14\n"
     ]
    },
    {
     "data": {
      "text/plain": [
       "'Led Zeppelin'"
      ]
     },
     "execution_count": 6,
     "metadata": {},
     "output_type": "execute_result"
    }
   ],
   "source": [
    "# Cria a lista de arestas.\n",
    "arestas = [('Rock', 'Led Zeppelin'), ('Rock', 'The Rolling Stones'), ('Rock', 'Queen'), ('Pop', 'Michael Jackson'), ('Pop', 'Madonna'),('Pop', 'Michael Jackson'), ('Pop', 'Beyoncé'),('Hip Hop', 'Notorious B.I.G.'), ('Hip Hop', 'Tupac Shakur'), ('Hip Hop', 'Jay-z'),('Country', 'Johnny Cash'), ('Country', 'Dolly Parton'),('Country','Kenny Rogers')]\n",
    "\n",
    "\n",
    "# Cria e imprime o grafo.\n",
    "grafo = Grafo(arestas, direcionado=False)\n",
    "\n",
    "grafo.get_arestas()\n",
    "\n",
    "grafo.adiciona_arestas([('Reagge','Bob Marley')])\n",
    "\n",
    "grafo.existe_aresta('Reagge','Bob Marley')\n",
    "\n",
    "grafo.get_vertices()\n",
    "\n",
    "print(grafo.tamanho)\n",
    "\n",
    "grafo.__str__()\n",
    "\n",
    "h = list(grafo.adj.keys())\n",
    "\n",
    "h[1]\n",
    "\n",
    "\n"
   ]
  },
  {
   "cell_type": "code",
   "execution_count": 7,
   "id": "0b229142",
   "metadata": {},
   "outputs": [],
   "source": [
    "def hash_string(palavra):\n",
    "    a = np.fromstring(palavra, dtype=np.uint8)\n",
    "    soma = 0\n",
    "    for i in a:\n",
    "        soma += i\n",
    "    return soma"
   ]
  },
  {
   "cell_type": "code",
   "execution_count": 8,
   "id": "f34266c7",
   "metadata": {},
   "outputs": [],
   "source": [
    "def verifica_dict(visitado:dict, chave:int, nome:str):\n",
    "    for i in visitado[str(chave)]:\n",
    "        if i == nome:\n",
    "            return True\n",
    "        \n",
    "    return False"
   ]
  },
  {
   "cell_type": "code",
   "execution_count": 9,
   "id": "28bf6139",
   "metadata": {},
   "outputs": [],
   "source": [
    "def bfs(G, inicio: str):\n",
    "\n",
    "    visitado = {}\n",
    "\n",
    "    IF = 0\n",
    "    FF = 0\n",
    "\n",
    "    fila = []\n",
    "    ret = []\n",
    "    fila.append(inicio)\n",
    "\n",
    "    chave = hash_string(inicio)\n",
    "\n",
    "    visitado[str(chave)] = []\n",
    "    visitado[str(chave)].append(inicio)\n",
    "\n",
    "    FF+=1\n",
    "\n",
    "    while fila:\n",
    "        IF = (IF + 1) % G.tamanho\n",
    "        pr = fila.pop(0)\n",
    "        ret.append(pr)\n",
    "\n",
    "        for j in list(G.adj.keys()):\n",
    "            cha = hash_string(j)\n",
    "            if str(cha) not in visitado:\n",
    "                visitado[str(cha)] = []\n",
    "                visitado[str(cha)].append(j)\n",
    "                fila.append(j)\n",
    "\n",
    "\n",
    "            elif verifica_dict(visitado=visitado, chave=cha, nome=j) != True:    \n",
    "                visitado[cha].append(j)\n",
    "                fila.append(j)\n",
    "\n",
    "    return ret   "
   ]
  },
  {
   "cell_type": "code",
   "execution_count": 10,
   "id": "fc39c7aa",
   "metadata": {},
   "outputs": [
    {
     "name": "stdout",
     "output_type": "stream",
     "text": [
      "['Queen', 'Rock', 'Led Zeppelin', 'The Rolling Stones', 'Pop', 'Michael Jackson', 'Madonna', 'Beyoncé', 'Hip Hop', 'Notorious B.I.G.', 'Tupac Shakur', 'Jay-z', 'Country', 'Johnny Cash', 'Dolly Parton', 'Kenny Rogers', 'Reagge', 'Bob Marley']\n"
     ]
    },
    {
     "name": "stderr",
     "output_type": "stream",
     "text": [
      "<ipython-input-7-d176b196d2f8>:2: DeprecationWarning: The binary mode of fromstring is deprecated, as it behaves surprisingly on unicode inputs. Use frombuffer instead\n",
      "  a = np.fromstring(palavra, dtype=np.uint8)\n"
     ]
    }
   ],
   "source": [
    "li = bfs(grafo, inicio=\"Queen\")\n",
    "print(li)"
   ]
  }
 ],
 "metadata": {
  "kernelspec": {
   "display_name": "myenv",
   "language": "python",
   "name": "myenv"
  },
  "language_info": {
   "codemirror_mode": {
    "name": "ipython",
    "version": 3
   },
   "file_extension": ".py",
   "mimetype": "text/x-python",
   "name": "python",
   "nbconvert_exporter": "python",
   "pygments_lexer": "ipython3",
   "version": "3.8.7"
  }
 },
 "nbformat": 4,
 "nbformat_minor": 5
}
