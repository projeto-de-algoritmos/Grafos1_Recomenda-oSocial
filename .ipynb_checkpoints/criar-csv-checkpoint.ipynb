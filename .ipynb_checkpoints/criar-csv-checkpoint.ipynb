{
 "cells": [
  {
   "cell_type": "code",
   "execution_count": 20,
   "metadata": {},
   "outputs": [],
   "source": [
    "import tkinter as tk\n",
    "from faker import Faker\n",
    "import numpy as np\n",
    "import pandas as pd\n",
    "import random\n",
    "from pathlib import Path"
   ]
  },
  {
   "cell_type": "code",
   "execution_count": 21,
   "metadata": {},
   "outputs": [
    {
     "name": "stderr",
     "output_type": "stream",
     "text": [
      "<ipython-input-21-a67a88b1e7a0>:6: FutureWarning: elementwise comparison failed; returning scalar instead, but in the future will perform elementwise comparison\n",
      "  if nome not in nomes:\n"
     ]
    }
   ],
   "source": [
    "faker = Faker()\n",
    "# Gera 50 nomes sem repeticao usando o faker\n",
    "nomes = np.array([])\n",
    "while len(nomes) < 50:\n",
    "    nome = faker.name()\n",
    "    if nome not in nomes:\n",
    "        nomes = np.append(nomes, nome)"
   ]
  },
  {
   "cell_type": "code",
   "execution_count": 22,
   "metadata": {},
   "outputs": [],
   "source": [
    "# Array com estilos de musica\n",
    "\n",
    "estilos_musica = [\"Rock\", \"Pop\", \"Hip Hop\", \"Sertanejo\", \"Eletrônica\", ]\n",
    "\n",
    "# Array com artistas/bandas de rock\n",
    "\n",
    "artistas_rock = [\n",
    "    \"Led Zeppelin\", \"The Rolling Stones\", \"Queen\", \"AC/DC\", \"Pink Floyd\",\n",
    "    \"Guns N' Roses\", \"Nirvana\", \"The Who\", \"Black Sabbath\", \"Metallica\",\n",
    "    \"Deep Purple\", \"Foo Fighters\", \"Red Hot Chili Peppers\", \"Linkin Park\",\n",
    "    \"Pearl Jam\", \"U2\", \"Bon Jovi\", \"The Beatles\", \"Green Day\", \"The Doors\",\n",
    "    \"Oasis\", \"Radiohead\", \"R.E.M.\", \"Foo Fighters\", \"System of a Down\",\n",
    "    \"Arctic Monkeys\", \"Coldplay\", \"Muse\", \"The Strokes\", \"Iron Maiden\"\n",
    "]\n",
    "\n",
    "# Array com artistas/bandas de pop\n",
    "\n",
    "artistas_pop = [\n",
    "    'Taylor Swift', 'Ariana Grande', 'Ed Sheeran', 'Dua Lipa', 'Justin Bieber',\n",
    "    'Billie Eilish', 'Shawn Mendes', 'Camila Cabello', 'The Weeknd', 'Katy Perry',\n",
    "    'Maroon 5', 'Bruno Mars', 'Rihanna', 'Selena Gomez', 'Charlie Puth', 'Lady Gaga', 'Post Malone',\n",
    "    'Zara Larsson', 'Harry Styles', 'Sia', 'Miley Cyrus', 'Justin Timberlake', 'Lizzo', 'Jason Derulo',\n",
    "    'Halsey', 'Sam Smith', 'Jonas Brothers', 'Jessie J', 'Niall Horan', 'Lauv'\n",
    "]\n",
    "\n",
    "\n",
    "# Array com artistas/bandas de hip hop\n",
    "\n",
    "artistas_hip_hop = [\n",
    "    \"Eminem\", \"Jay-Z\", \"Kanye West\", \"Drake\", \"Kendrick Lamar\",\n",
    "    \"Nas\", \"Notorious B.I.G.\", \"Tupac Shakur\", \"Snoop Dogg\", \"Lil Wayne\",\n",
    "    \"J. Cole\", \"Outkast\", \"Lauryn Hill\", \"Wu-Tang Clan\", \"A Tribe Called Quest\",\n",
    "    \"Ice Cube\", \"MF DOOM\", \"Run-D.M.C.\", \"Public Enemy\", \"KRS-One\",\n",
    "    \"Big Daddy Kane\", \"Lil Kim\", \"Gang Starr\", \"Mos Def\", \"Common\", \"Rakim\",\n",
    "    \"Big L\", \"A$AP Rocky\", \"Tyler, The Creator\", \"Chance the Rapper\", \"Logic\"\n",
    "]\n",
    "\n",
    "# Array com artistas de sertanejo\n",
    "\n",
    "artistas_sertanejo = [\n",
    "    \"Chitãozinho & Xororó\", \"Maiara & Maraisa\", \"Jorge & Mateus\", \"Gusttavo Lima\", \"Marília Mendonça\",\n",
    "    \"Zé Neto & Cristiano\", \"Henrique & Juliano\", \"Michel Teló\", \"César Menotti & Fabiano\", \"Fernando & Sorocaba\",\n",
    "    \"Gino & Geno\", \"Luan Santana\", \"Paula Fernandes\", \"Cristiano Araújo\", \"Zezé Di Camargo & Luciano\", \"Daniel\",\n",
    "    \"Munhoz & Mariano\", \"Jads & Jadson\", \"Matheus & Kauan\", \"Guilherme & Santiago\", \"João Neto & Frederico\",\n",
    "    \"Gian & Giovani\", \"Gustavo Mioto\", \"Bruno & Marrone\", \"Rick & Renner\", \"Eduardo Costa\",\n",
    "    \"Marcos & Belutti\", \"Léo Magalhães\", \"Zezé di Camargo\", \"Loubet\"\n",
    "]\n",
    "\n",
    "# Array com artistas de eletronica\n",
    "\n",
    "artistas_eletronica = [\n",
    "    \"Daft Punk\", \"Avicii\", \"Calvin Harris\", \"David Guetta\", \"Martin Garrix\",\n",
    "    \"The Chainsmokers\", \"Zedd\", \"Marshmello\", \"Skrillex\", \"Tiesto\", \"Deadmau5\",\n",
    "    \"Disclosure\", \"Kygo\", \"Flume\", \"Major Lazer\", \"Kaskade\", \"Steve Aoki\",\n",
    "    \"Armin van Buuren\", \"Alesso\", \"Axwell\", \"Above & Beyond\", \"Hardwell\", \"R3hab\", \"Nicky Romero\",\n",
    "    \"Diplo\", \"Porter Robinson\", \"Eric Prydz\", \"Nervo\", \"Alan Walker\", \"Galantis\"\n",
    "]"
   ]
  },
  {
   "cell_type": "code",
   "execution_count": 23,
   "metadata": {},
   "outputs": [
    {
     "name": "stdout",
     "output_type": "stream",
     "text": [
      "[['Dance', 'Taylor Swift'], ['Dance', 'Ariana Grande'], ['Indie pop', 'Ed Sheeran'], ['Bubblegum pop', 'Dua Lipa'], ['R&B', 'Justin Bieber'], ['Electropop', 'Billie Eilish'], ['Indie pop', 'Shawn Mendes'], ['Power pop', 'Camila Cabello'], ['R&B', 'The Weeknd'], ['Electropop', 'Katy Perry'], ['Dance', 'Maroon 5'], ['Electropop', 'Bruno Mars'], ['R&B', 'Rihanna'], ['Dance', 'Selena Gomez'], ['R&B', 'Charlie Puth'], ['Dance', 'Lady Gaga'], ['Electropop', 'Post Malone'], ['Electropop', 'Zara Larsson'], ['R&B', 'Harry Styles'], ['Indie pop', 'Sia'], ['Bubblegum pop', 'Miley Cyrus'], ['Electropop', 'Justin Timberlake'], ['Bubblegum pop', 'Lizzo'], ['Electropop', 'Jason Derulo'], ['Dance', 'Halsey'], ['Electropop', 'Sam Smith'], ['Dance', 'Jonas Brothers'], ['Indie pop', 'Jessie J'], ['Indie pop', 'Niall Horan'], ['R&B', 'Lauv']]\n"
     ]
    }
   ],
   "source": [
    "sub = pd.read_csv('subgeneros.csv')\n",
    "\n",
    "subge = pd.DataFrame(sub)\n",
    "\n",
    "tabela_artistas_pop = []\n",
    "tabela_artistas_rock = []\n",
    "tabela_artistas_hiphop = []\n",
    "tabela_artistas_sertanejo = []\n",
    "tabela_artistas_eletronica = []\n",
    "\n",
    "\n",
    "pop_list = subge['Pop'].values.tolist()\n",
    "rock_list = subge['Rock'].values.tolist()\n",
    "hiphop_list = subge['Hip Hop'].values.tolist()\n",
    "sertanejo_list = subge['Sertanejo'].values.tolist()\n",
    "eletronica_list = subge['Eletronica'].values.tolist()\n",
    "\n",
    "for i in artistas_pop:\n",
    "    sub_gen = random.choice(pop_list)\n",
    "    tabela_artistas_pop.append([sub_gen, i])\n",
    "\n",
    "print(tabela_artistas_pop)\n",
    "\n",
    "for i in artistas_rock:\n",
    "    sub_gen = random.choice(rock_list)\n",
    "    tabela_artistas_rock.append([sub_gen, i])\n",
    "\n",
    "for i in artistas_hip_hop:\n",
    "    sub_gen = random.choice(hiphop_list)\n",
    "    tabela_artistas_hiphop.append([sub_gen, i])\n",
    "\n",
    "for i in artistas_sertanejo:\n",
    "    sub_gen = random.choice(sertanejo_list)\n",
    "    tabela_artistas_sertanejo.append([sub_gen, i])\n",
    "\n",
    "for i in artistas_eletronica:\n",
    "    sub_gen = random.choice(eletronica_list)\n",
    "    tabela_artistas_eletronica.append([sub_gen, i])"
   ]
  },
  {
   "cell_type": "code",
   "execution_count": 24,
   "metadata": {},
   "outputs": [],
   "source": [
    "# cria a tabela vazia\n",
    "tabela = []\n",
    "\n",
    "for i in range(50):\n",
    "    user_id = i\n",
    "    nome = nomes[i]\n",
    "    estilo = random.choice(estilos_musica)\n",
    "    artista = \"\"\n",
    "    sub_genero = \"\"\n",
    "    if estilo == 'Rock':\n",
    "        sub_genero, artista = random.choice(tabela_artistas_rock)\n",
    "    if estilo == 'Pop':\n",
    "        sub_genero, artista = random.choice(tabela_artistas_pop)\n",
    "    if estilo == 'Hip Hop':\n",
    "        sub_genero, artista = random.choice(tabela_artistas_hiphop)\n",
    "    if estilo == 'Sertanejo':\n",
    "        sub_genero, artista = random.choice(tabela_artistas_sertanejo)\n",
    "    if estilo == 'Eletrônica':\n",
    "        sub_genero, artista = random.choice(tabela_artistas_eletronica)\n",
    "\n",
    "    tabela.append([user_id, nome, estilo, artista, sub_genero])\n",
    "\n",
    "\n",
    "# A tabela usuarios vai ser o nosso dataframe base para trablharmos em cima do grafo\n",
    "usuarios = pd.DataFrame(tabela, columns=['user_id', 'nome', 'estilo', 'artista favorito', 'sub_genero',])\n",
    "\n",
    "\n",
    "filepath = Path('./src/usuarios.csv')\n",
    "filepath.parent.mkdir(parents=True, exist_ok=True)\n",
    "\n",
    "usuarios.to_csv(filepath)"
   ]
  },
  {
   "cell_type": "code",
   "execution_count": null,
   "metadata": {},
   "outputs": [],
   "source": []
  },
  {
   "cell_type": "code",
   "execution_count": 25,
   "metadata": {},
   "outputs": [],
   "source": [
    "# cria tabela vazia\n",
    "tabela_sub = []\n",
    "\n"
   ]
  }
 ],
 "metadata": {
  "kernelspec": {
   "display_name": "myenv",
   "language": "python",
   "name": "myenv"
  },
  "language_info": {
   "codemirror_mode": {
    "name": "ipython",
    "version": 3
   },
   "file_extension": ".py",
   "mimetype": "text/x-python",
   "name": "python",
   "nbconvert_exporter": "python",
   "pygments_lexer": "ipython3",
   "version": "3.8.7"
  }
 },
 "nbformat": 4,
 "nbformat_minor": 2
}
